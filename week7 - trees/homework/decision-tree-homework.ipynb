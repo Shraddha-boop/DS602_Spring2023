{
 "cells": [
  {
   "cell_type": "markdown",
   "id": "4a8bd498",
   "metadata": {},
   "source": [
    "# Week7 - Tree Assignment\n",
    "\n",
    "- Load the breast cancer dataset using datasets.load_breast_cancer()\n",
    "- Use scatter plots to look at the data (use different colors for the classes)\n",
    "- Use box plots to look at the data \n",
    "- create a training and test set with random_state = 3\n",
    "- train a decision tree model on the training set.\n",
    "- train a logistic regression model on the training set\n",
    "- train a random forest model on the training set\n",
    "- Which model performed better?\n",
    "- Which features were most relevant in each model (a part from random forest)?\n",
    "- Use grid search to improve performance on the best performed model"
   ]
  },
  {
   "cell_type": "code",
   "execution_count": null,
   "id": "ffd31a2d",
   "metadata": {},
   "outputs": [],
   "source": []
  }
 ],
 "metadata": {
  "kernelspec": {
   "display_name": "Python 3",
   "language": "python",
   "name": "python3"
  },
  "language_info": {
   "codemirror_mode": {
    "name": "ipython",
    "version": 3
   },
   "file_extension": ".py",
   "mimetype": "text/x-python",
   "name": "python",
   "nbconvert_exporter": "python",
   "pygments_lexer": "ipython3",
   "version": "3.8.8"
  },
  "toc": {
   "base_numbering": 1,
   "nav_menu": {},
   "number_sections": false,
   "sideBar": true,
   "skip_h1_title": false,
   "title_cell": "Table of Contents",
   "title_sidebar": "Contents",
   "toc_cell": false,
   "toc_position": {},
   "toc_section_display": true,
   "toc_window_display": true
  }
 },
 "nbformat": 4,
 "nbformat_minor": 5
}
